{
 "cells": [
  {
   "cell_type": "markdown",
   "id": "2becf39d-fdcb-48e8-a76e-7c5a5c24427e",
   "metadata": {},
   "source": [
    "<h1>Data Science Tools and Ecosystem</h1> "
   ]
  },
  {
   "cell_type": "markdown",
   "id": "7f52c008-25e6-4a1a-9009-b45348a0f939",
   "metadata": {},
   "source": [
    "## In this notebook, Data Science Tools and Ecosystem are summarized."
   ]
  },
  {
   "cell_type": "markdown",
   "id": "5f8b89e5-d13d-46d1-852a-4bf846167852",
   "metadata": {},
   "source": [
    "### Some of the popular languages that Data Scientists use are:\n",
    "#### 1. Python\n",
    "#### 2. R\n",
    "#### 3. SQL"
   ]
  },
  {
   "cell_type": "markdown",
   "id": "962a9e8e-5db2-4cf4-b91c-10fd44d706dc",
   "metadata": {},
   "source": [
    "#### Some of the commonly used libraries used by Data Scientists include:\n",
    "##### 1. Panda\n",
    "##### 2. Numpy\n",
    "##### 3. Matplotlib"
   ]
  },
  {
   "cell_type": "markdown",
   "id": "443a9171-f7a9-4c77-95da-6797aebea1e9",
   "metadata": {},
   "source": [
    "##### Data Science Tools\n",
    "###### 1. Git Hub\n",
    "###### 2. My Sql\n",
    "###### 3. Cassandra\n",
    "###### 4. Apache Airflow"
   ]
  },
  {
   "cell_type": "markdown",
   "id": "d4ed4d38-8493-45c1-bc7a-12b491bd1bb5",
   "metadata": {},
   "source": [
    "<H3>Below are a few examples of evaluating arithmetic expressions in Python</H3>"
   ]
  },
  {
   "cell_type": "code",
   "execution_count": 1,
   "id": "bc1ff985-0d92-4578-967b-2ed04f18fc5c",
   "metadata": {},
   "outputs": [
    {
     "data": {
      "text/plain": [
       "17"
      ]
     },
     "execution_count": 1,
     "metadata": {},
     "output_type": "execute_result"
    }
   ],
   "source": [
    "# This a simple arithmetic expression to mutiply then add integers\n",
    "(3*4)+5"
   ]
  },
  {
   "cell_type": "code",
   "execution_count": 5,
   "id": "8253a4a2-3804-4a72-b985-ca75602aa2e5",
   "metadata": {},
   "outputs": [
    {
     "data": {
      "text/plain": [
       "3.3333333333333335"
      ]
     },
     "execution_count": 5,
     "metadata": {},
     "output_type": "execute_result"
    }
   ],
   "source": [
    "# This will convert 200 minutes to hours by diving by 60\n",
    "minutes = 200\n",
    "hours = 200/60\n",
    "hours"
   ]
  },
  {
   "cell_type": "markdown",
   "id": "8dd37bb6-4f4e-4a13-b76c-6ff56d0987b1",
   "metadata": {},
   "source": [
    "##### Objectives\n",
    "* Got the Inroduction to Data Science\n",
    "* The Applications of Data Science\n",
    "* Tools used in performing analysis\n",
    "* Introduction to Pyhton, GitHub, R\n",
    "* Introduction to Model Building"
   ]
  },
  {
   "cell_type": "markdown",
   "id": "3a145e79-1bf2-4449-9a8c-36a766e1572f",
   "metadata": {},
   "source": [
    "<H2>Author</H2>\n",
    "Savan"
   ]
  },
  {
   "cell_type": "code",
   "execution_count": null,
   "id": "bf7e34d4-15cf-4878-ac11-4b9f39b27631",
   "metadata": {},
   "outputs": [],
   "source": []
  }
 ],
 "metadata": {
  "kernelspec": {
   "display_name": "Python 3 (ipykernel)",
   "language": "python",
   "name": "python3"
  },
  "language_info": {
   "codemirror_mode": {
    "name": "ipython",
    "version": 3
   },
   "file_extension": ".py",
   "mimetype": "text/x-python",
   "name": "python",
   "nbconvert_exporter": "python",
   "pygments_lexer": "ipython3",
   "version": "3.11.3"
  }
 },
 "nbformat": 4,
 "nbformat_minor": 5
}
